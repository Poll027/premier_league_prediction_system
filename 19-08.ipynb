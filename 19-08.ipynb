{
 "cells": [
  {
   "cell_type": "code",
   "execution_count": null,
   "id": "b712f65d",
   "metadata": {},
   "outputs": [],
   "source": [
    "import pandas as pd\n",
    "import numpy as np\n",
    "import matplotlib.pyplot as plt\n",
    "import seaborn as sns"
   ]
  },
  {
   "cell_type": "code",
   "execution_count": null,
   "id": "7693e8f4",
   "metadata": {},
   "outputs": [],
   "source": [
    "fixtures = pd.read_csv('fixtures.csv') \n",
    "player_stats = pd.read_csv('player_stats.csv')\n",
    "team_defensive = pd.read_csv('team_defensive_stats.csv')\n",
    "team_goalkeeping = pd.read_csv('team_goalkeeping_stats.csv')\n",
    "team_passing = pd.read_csv('team_passing_stats.csv')\n",
    "team_possession = pd.read_csv('team_possession_stats.csv')\n",
    "team_shooting = pd.read_csv('team_shooting_stats.csv')\n",
    "transfers = pd.read_csv('transfers.csv')\n",
    "tables = pd.read_csv('league_tables.csv')"
   ]
  },
  {
   "cell_type": "code",
   "execution_count": null,
   "id": "fc91b77d",
   "metadata": {},
   "outputs": [],
   "source": [
    "fixtures.head()"
   ]
  },
  {
   "cell_type": "code",
   "execution_count": null,
   "id": "0161728a",
   "metadata": {},
   "outputs": [],
   "source": [
    "print('Fixtures:', fixtures.shape)\n",
    "print('Player stats:', player_stats.shape)\n",
    "print('Team defensive:', team_defensive.shape)\n",
    "print('Team goalkeeping:', team_goalkeeping.shape)\n",
    "print('Team passing:', team_passing.shape)\n",
    "print('Team possession:', team_possession.shape)\n",
    "print('Team shooting:', team_shooting.shape)\n",
    "print('Transfers:', transfers.shape)\n",
    "print('Tables:', tables.shape)"
   ]
  },
  {
   "cell_type": "code",
   "execution_count": null,
   "id": "6a2c8fda",
   "metadata": {},
   "outputs": [],
   "source": [
    "all_teams = set(fixtures['Home']).union(fixtures['Away'])\n",
    "for df in [team_shooting, team_defensive, team_goalkeeping, team_possession]:\n",
    "    all_teams = all_teams.union(df['Squad'])"
   ]
  },
  {
   "cell_type": "code",
   "execution_count": null,
   "id": "0861cf21",
   "metadata": {},
   "outputs": [],
   "source": [
    "team_id_map = {team: idx for idx, team in enumerate(sorted(all_teams), 1)}\n",
    "print(\"Sample IDs:\", dict(list(team_id_map.items())[:3]))"
   ]
  },
  {
   "cell_type": "code",
   "execution_count": null,
   "id": "7a0c611f",
   "metadata": {},
   "outputs": [],
   "source": [
    "mapping_dict = dict(list(team_id_map.items()))"
   ]
  },
  {
   "cell_type": "markdown",
   "id": "4d5201c6",
   "metadata": {},
   "source": [
    "Other methods failed so I am now attempting to create an id system unique to each team which will allow me to merge the data frames together"
   ]
  },
  {
   "cell_type": "code",
   "execution_count": null,
   "id": "a273c8fa",
   "metadata": {},
   "outputs": [],
   "source": [
    "#For fixtures\n",
    "fixtures['home_id'] = fixtures['Home'].map(team_id_map)\n",
    "fixtures['away_id'] = fixtures['Away'].map(team_id_map)"
   ]
  },
  {
   "cell_type": "code",
   "execution_count": null,
   "id": "71f56feb",
   "metadata": {},
   "outputs": [],
   "source": [
    "#for team statistics\n",
    "for df in [team_shooting, team_defensive, team_goalkeeping, team_possession]:\n",
    "    df['team_id'] = df['Squad'].map(team_id_map)"
   ]
  },
  {
   "cell_type": "code",
   "execution_count": null,
   "id": "2881c271",
   "metadata": {},
   "outputs": [],
   "source": [
    "duplicate_cols = {'Notes', 'Attendance', 'season', 'scraped_date', 'Match Report', 'Rk'}\n",
    "\n",
    "def clean_team_df(df):\n",
    "    return df.drop(columns=[c for c in duplicate_cols if c in df.columns], errors='ignore')\n",
    "\n",
    "team_shooting_clean = clean_team_df(team_shooting)\n",
    "team_defensive_clean = clean_team_df(team_defensive)\n",
    "team_goalkeeping_clean = clean_team_df(team_goalkeeping)\n",
    "team_possession_clean = clean_team_df(team_possession)\n",
    "\n",
    "team_profile = (\n",
    "    team_shooting_clean.merge(\n",
    "        team_defensive_clean,\n",
    "        on='team_id',\n",
    "        suffixes=('_shooting', '_defensive')\n",
    "    ).merge(\n",
    "        team_goalkeeping_clean,\n",
    "        on='team_id'\n",
    "    ).merge(\n",
    "        team_possession_clean,\n",
    "        on='team_id',\n",
    "        suffixes=('', '_possession')\n",
    ")\n",
    ")\n",
    "\n",
    "print(\"Team profile columns:\", team_profile.columns.tolist())"
   ]
  },
  {
   "cell_type": "code",
   "execution_count": null,
   "id": "58711498",
   "metadata": {},
   "outputs": [],
   "source": [
    "team_profile = (\n",
    "    team_shooting[['team_id', 'season', 'xG', 'Sh', 'SoT']]\n",
    "    .merge(team_defensive[['team_id', 'season', 'Tkl', 'Int', 'Clr']],\n",
    "           on=['team_id', 'season'])\n",
    "    .merge(team_goalkeeping[['team_id', 'season', 'xGA', 'GA']],\n",
    "           on=['team_id', 'season'])\n",
    "    .merge(team_possession[['team_id', 'season', 'Poss', 'Att 3rd']],\n",
    "           on=['team_id', 'season'])\n",
    "    .drop_duplicates(subset=['team_id', 'season'])\n",
    ")"
   ]
  },
  {
   "cell_type": "code",
   "execution_count": null,
   "id": "f1bfc702",
   "metadata": {},
   "outputs": [],
   "source": [
    "team_profile.to_sql('team_profile', conn, index=False)"
   ]
  },
  {
   "cell_type": "code",
   "execution_count": null,
   "id": "83e00053",
   "metadata": {},
   "outputs": [],
   "source": [
    "import sqlite3"
   ]
  },
  {
   "cell_type": "code",
   "execution_count": null,
   "id": "1cc689a7",
   "metadata": {},
   "outputs": [],
   "source": [
    "query = \"\"\"\n",
    "SELECT f.*,\n",
    "       home.xG as home_xG, home.Sh as home_Sh, home.Tkl as home_Tkl, home.Poss as home_Poss,\n",
    "       away.xG as away_xG, away.Sh as away_Sh, away.Tkl as away_Tkl, away.Poss as away_Poss\n",
    "FROM fixtures f\n",
    "JOIN team_profile home \n",
    "    ON f.home_id = home.team_id \n",
    "    AND f.season = home.season\n",
    "JOIN team_profile away \n",
    "    ON f.away_id = away.team_id \n",
    "    AND f.season = away.season\n",
    "\"\"\""
   ]
  },
  {
   "cell_type": "code",
   "execution_count": null,
   "id": "ae4219ad",
   "metadata": {},
   "outputs": [],
   "source": [
    "master_df = pd.read_sql(query, conn)"
   ]
  },
  {
   "cell_type": "code",
   "execution_count": null,
   "id": "705757b3",
   "metadata": {},
   "outputs": [],
   "source": [
    "master_df.to_csv('master dataset.csv', index=False)"
   ]
  },
  {
   "cell_type": "code",
   "execution_count": null,
   "id": "026fe7dc",
   "metadata": {},
   "outputs": [],
   "source": [
    "master_df.drop(columns=[\"Match Report\", \"scraped_date\"], inplace=True)"
   ]
  },
  {
   "cell_type": "code",
   "execution_count": null,
   "id": "090a1f23",
   "metadata": {},
   "outputs": [],
   "source": [
    "master_df.drop(columns=[\"Notes\"], inplace=True)"
   ]
  },
  {
   "cell_type": "code",
   "execution_count": null,
   "id": "54a37a6c",
   "metadata": {},
   "outputs": [],
   "source": [
    "master_df['home_win'] = (master_df['Score'].str.split('–').str[0].astype(int) > master_df['Score'].str.split('–').str[1].astype(int)).astype(int)"
   ]
  },
  {
   "cell_type": "markdown",
   "id": "bbe684b2",
   "metadata": {},
   "source": [
    "Creating features for what I'll predict"
   ]
  },
  {
   "cell_type": "code",
   "execution_count": null,
   "id": "1e9a7d30",
   "metadata": {},
   "outputs": [],
   "source": [
    "master_df['goal_diff'] = master_df['Score'].str.split('–').str[0].astype(int) - master_df['Score'].str.split('–').str[1].astype(int)"
   ]
  },
  {
   "cell_type": "markdown",
   "id": "b60cad4c",
   "metadata": {},
   "source": [
    "Some features to demonstrate rest and momentum"
   ]
  },
  {
   "cell_type": "code",
   "execution_count": null,
   "id": "797efd01",
   "metadata": {},
   "outputs": [],
   "source": [
    "master_df['Date'] = pd.to_datetime(master_df['Date'])\n",
    "master_df = master_df.sort_values(['Home', 'Date'])\n",
    "\n",
    "master_df['home_days_rest'] = master_df.groupby('Home')['Date'].diff().dt.days\n",
    "master_df['away_days_rest'] = master_df.groupby('Away')['Date'].diff().dt.days"
   ]
  },
  {
   "cell_type": "code",
   "execution_count": null,
   "id": "8523e798",
   "metadata": {},
   "outputs": [],
   "source": [
    "for team_type in ['Home', 'Away']:\n",
    "    master_df[f'{team_type.lower()}_form_last5'] = (\n",
    "        master_df.groupby(team_type)['home_win']\n",
    "        .rolling(5, min_periods=1).mean()\n",
    "        .reset_index(level=0, drop=True)\n",
    "    )"
   ]
  },
  {
   "cell_type": "markdown",
   "id": "424312fb",
   "metadata": {},
   "source": [
    "Features to demonstrate team strength and status"
   ]
  },
  {
   "cell_type": "code",
   "execution_count": null,
   "id": "850ea5e3",
   "metadata": {},
   "outputs": [],
   "source": [
    "for stat in ['xG', 'Poss', 'Tkl']:\n",
    "    for team_type in ['home_', 'away_']:\n",
    "        master_df[f'{team_type}{stat}_ema10'] = (\n",
    "            master_df.groupby(team_type+'id')[f'{team_type}{stat}']\n",
    "            .transform(lambda x: x.ewm(span=10).mean())\n",
    "        )"
   ]
  },
  {
   "cell_type": "code",
   "execution_count": null,
   "id": "21ba192f",
   "metadata": {},
   "outputs": [],
   "source": [
    "#To get head to head rating for teams\n",
    "def calculate_h2h_avg(home_team, away_team, df, lookback_seasons=5):\n",
    "    \"\"\"\n",
    "    Calculate average home-team goals in head-to-head matches.\n",
    "    \n",
    "    Args:\n",
    "        home_team (str): Name of home team (e.g. 'Manchester Utd')\n",
    "        away_team (str): Name of away team (e.g. 'Chelsea')\n",
    "        df (DataFrame): Your master_df containing historical fixtures\n",
    "        lookback_seasons (int): How many past seasons to consider\n",
    "    \n",
    "    Returns:\n",
    "        float: Average goals scored by home team in past meetings\n",
    "    \"\"\"\n",
    "    # Filter historical matches between these teams\n",
    "    h2h_matches = df[\n",
    "        ((df['Home'] == home_team) & (df['Away'] == away_team)) |\n",
    "        ((df['Home'] == away_team) & (df['Away'] == home_team))\n",
    "    ].sort_values('Date', ascending=False)\n",
    "    \n",
    "    # Optionally limit lookback period\n",
    "    if 'season' in df.columns:\n",
    "        current_season = df['season'].max()\n",
    "        h2h_matches = h2h_matches[\n",
    "            h2h_matches['season'].astype(str).str[:4].astype(int) >= \n",
    "            int(current_season[:4]) - lookback_seasons\n",
    "        ]\n",
    "    \n",
    "    if len(h2h_matches) == 0:\n",
    "        return np.nan  # No historical data\n",
    "    \n",
    "    # Calculate average home-team goals (adjusting for home/away)\n",
    "    total_goals = 0\n",
    "    for _, row in h2h_matches.iterrows():\n",
    "        home_goals, away_goals = map(int, row['Score'].split('–'))\n",
    "        if row['Home'] == home_team:\n",
    "            total_goals += home_goals\n",
    "        else:\n",
    "            total_goals += away_goals\n",
    "    \n",
    "    return total_goals / len(h2h_matches)"
   ]
  },
  {
   "cell_type": "code",
   "execution_count": null,
   "id": "e7872c5c",
   "metadata": {},
   "outputs": [],
   "source": [
    "master_df['h2h_goal_avg'] = master_df.apply(\n",
    "    lambda row: calculate_h2h_avg(row['Home'], row['Away'], master_df), \n",
    "    axis=1\n",
    ")\n",
    "\n",
    "master_df['h2h_goal_avg'] = master_df['h2h_goal_avg'].fillna(\n",
    "    master_df.groupby('Home')['home_xG'].transform('mean')\n",
    ")"
   ]
  },
  {
   "cell_type": "code",
   "execution_count": null,
   "id": "8168583d",
   "metadata": {},
   "outputs": [],
   "source": [
    "master_df.to_csv('master_df_with_h2h.csv', index=False)"
   ]
  },
  {
   "cell_type": "code",
   "execution_count": null,
   "id": "d8b78419",
   "metadata": {},
   "outputs": [],
   "source": [
    "def h2h_stats(row, df, lookback=5):\n",
    "    h2h = df[\n",
    "        ((df['Home'] == row['Home']) & (df['Away'] == row['Away'])) |\n",
    "        ((df['Home'] == row['Away']) & (df['Away'] == row['Home']))\n",
    "    ].sort_values('Date', ascending=False).head(lookback)\n",
    "    if h2h.empty:\n",
    "        return np.nan, np.nan, np.nan, np.nan\n",
    "    goals = []\n",
    "    win_count = 0\n",
    "    last_result = np.nan\n",
    "    home_venue_wins = 0\n",
    "    home_venue_games = 0\n",
    "    away_venue_wins = 0\n",
    "    away_venue_games = 0\n",
    "    for i, match in h2h.iterrows():\n",
    "        home_goals, away_goals = map(int, match['Score'].split('–'))\n",
    "        if match['Home'] == row['Home']:\n",
    "            goals.append(home_goals)\n",
    "            if home_goals > away_goals:\n",
    "                win_count += 1\n",
    "                if i == h2h.index[0]:\n",
    "                    last_result = 1\n",
    "            elif home_goals == away_goals:\n",
    "                if i == h2h.index[0]:\n",
    "                    last_result = 0\n",
    "            else:\n",
    "                if i == h2h.index[0]:\n",
    "                    last_result = -1\n",
    "            home_venue_games += 1\n",
    "            if home_goals > away_goals:\n",
    "                home_venue_wins += 1\n",
    "        else:\n",
    "            goals.append(away_goals)\n",
    "            if away_goals > home_goals:\n",
    "                if i == h2h.index[0]:\n",
    "                    last_result = -1\n",
    "                away_venue_wins += 1\n",
    "            elif away_goals == home_goals:\n",
    "                if i == h2h.index[0]:\n",
    "                    last_result = 0\n",
    "            else:\n",
    "                if i == h2h.index[0]:\n",
    "                    last_result = 1\n",
    "            away_venue_games += 1\n",
    "    h2h_goal_avg = np.mean(goals) if goals else np.nan\n",
    "    h2h_win_pct = win_count / len(h2h) if len(h2h) > 0 else np.nan\n",
    "    h2h_recent_trend = last_result\n",
    "    h2h_venue_impact = (home_venue_wins / home_venue_games if home_venue_games else 0) - \\\n",
    "                       (away_venue_wins / away_venue_games if away_venue_games else 0)\n",
    "    return h2h_goal_avg, h2h_win_pct, h2h_recent_trend, h2h_venue_impact\n",
    "\n",
    "h2h_features = master_df.apply(\n",
    "    lambda row: h2h_stats(row, master_df, lookback=5), axis=1, result_type='expand'\n",
    ")\n",
    "master_df['h2h_goal_avg'] = h2h_features[0]\n",
    "master_df['h2h_win_pct'] = h2h_features[1]\n",
    "master_df['h2h_recent_trend'] = h2h_features[2]\n",
    "master_df['h2h_venue_impact'] = h2h_features[3]"
   ]
  },
  {
   "cell_type": "code",
   "execution_count": null,
   "id": "9cd51745",
   "metadata": {},
   "outputs": [],
   "source": [
    "master_df['home_danger_ratio'] = master_df['home_Sh'] / master_df['away_Tkl']\n",
    "master_df['away_danger_ratio'] = master_df['away_Sh'] / master_df['home_Tkl']"
   ]
  },
  {
   "cell_type": "code",
   "execution_count": null,
   "id": "e06c9272",
   "metadata": {},
   "outputs": [],
   "source": [
    "master_df['home_poss_eff'] = master_df['home_xG'] / master_df['home_Poss']\n",
    "master_df['away_poss_eff'] = master_df['away_xG'] / master_df['away_Poss']"
   ]
  },
  {
   "cell_type": "markdown",
   "id": "9e16e573",
   "metadata": {},
   "source": [
    "Lastly I want to create an Elo rating system similar to that in Chess as it tends to have high predictive features"
   ]
  },
  {
   "cell_type": "code",
   "execution_count": null,
   "id": "edd6d728",
   "metadata": {},
   "outputs": [],
   "source": [
    "initial_elo = 1500\n",
    "all_teams = set(master_df['Home']).union(set(master_df['Away']))\n",
    "elo_ratings = {team: initial_elo for team in all_teams}\n",
    "\n",
    "K_FACTOR = 30      \n",
    "HOME_ADVANTAGE = 100\n",
    "MARGIN_FACTOR = 1.0\n",
    "\n",
    "elo_history_data = []"
   ]
  },
  {
   "cell_type": "code",
   "execution_count": null,
   "id": "9ecca56a",
   "metadata": {},
   "outputs": [],
   "source": [
    "master_df = master_df.sort_values('Date')\n",
    "\n",
    "for idx, row in master_df.iterrows():\n",
    "    home_team, away_team = row['Home'], row['Away']\n",
    "    home_goals, away_goals = map(int, row['Score'].split('–'))\n",
    "    goal_diff = abs(home_goals - away_goals)\n",
    "    \n",
    "    # Get current ratings\n",
    "    home_elo = elo_ratings[home_team]\n",
    "    away_elo = elo_ratings[away_team]\n",
    "    \n",
    "    # Store pre-match ratings\n",
    "    master_df.at[idx, 'home_elo'] = home_elo\n",
    "    master_df.at[idx, 'away_elo'] = away_elo\n",
    "    \n",
    "    # Calculate expected outcome\n",
    "    expected_home_win = 1 / (1 + 10 ** ((away_elo - home_elo - HOME_ADVANTAGE) / 400))\n",
    "    master_df.at[idx, 'elo_expected_home_win'] = expected_home_win\n",
    "    \n",
    "    # Update ratings based on actual outcome\n",
    "    if home_goals > away_goals:  # Home win\n",
    "        new_home, new_away = update_elo(home_elo, away_elo, goal_diff, HOME_ADVANTAGE)\n",
    "    elif away_goals > home_goals:  # Away win\n",
    "        new_away, new_home = update_elo(away_elo, home_elo, goal_diff, 0)\n",
    "    else:  # Draw\n",
    "        expected_draw = 1 - abs(expected_home_win - (1 - expected_home_win))\n",
    "        home_change = K_FACTOR * 0.5 * (0.5 - expected_home_win)\n",
    "        new_home, new_away = home_elo + home_change, away_elo - home_change\n",
    "    \n",
    "    # Update ratings and store history\n",
    "    elo_change_home = new_home - home_elo\n",
    "    elo_change_away = new_away - away_elo\n",
    "    \n",
    "    elo_ratings[home_team] = new_home\n",
    "    elo_ratings[away_team] = new_away\n",
    "    \n",
    "    # Store detailed history\n",
    "    elo_history_data.append({\n",
    "        'date': row['Date'],\n",
    "        'team': home_team,\n",
    "        'elo': new_home,\n",
    "        'elo_change': elo_change_home,\n",
    "        'opponent': away_team,\n",
    "        'is_home': True\n",
    "    })\n",
    "    elo_history_data.append({\n",
    "        'date': row['Date'],\n",
    "        'team': away_team,\n",
    "        'elo': new_away,\n",
    "        'elo_change': elo_change_away,\n",
    "        'opponent': home_team,\n",
    "        'is_home': False\n",
    "    })\n",
    "\n",
    "# Create the elo_history_df\n",
    "elo_history_df = pd.DataFrame(elo_history_data)"
   ]
  },
  {
   "cell_type": "code",
   "execution_count": null,
   "id": "25bcd569",
   "metadata": {},
   "outputs": [],
   "source": [
    "def recent_elo_form(team, current_date, matches=5):\n",
    "    \"\"\"Calculate average Elo change in last N matches for a team\"\"\"\n",
    "    team_history = elo_history_df[\n",
    "        (elo_history_df['team'] == team) & \n",
    "        (elo_history_df['date'] < current_date)\n",
    "    ].sort_values('date', ascending=False).head(matches)\n",
    "    \n",
    "    if len(team_history) == 0:\n",
    "        return 0\n",
    "    return team_history['elo_change'].mean()\n",
    "\n",
    "# Apply to dataframe\n",
    "master_df['home_elo_momentum'] = master_df.apply(\n",
    "    lambda x: recent_elo_form(x['Home'], x['Date'], matches=5), \n",
    "    axis=1\n",
    ")\n",
    "master_df['away_elo_momentum'] = master_df.apply(\n",
    "    lambda x: recent_elo_form(x['Away'], x['Date'], matches=5), \n",
    "    axis=1\n",
    ")"
   ]
  },
  {
   "cell_type": "code",
   "execution_count": null,
   "id": "4ca737d6",
   "metadata": {},
   "outputs": [],
   "source": [
    "# Elo difference features\n",
    "master_df['elo_diff'] = master_df['home_elo'] - master_df['away_elo']\n",
    "master_df['elo_win_prob'] = 1 / (1 + 10 ** ((master_df['away_elo'] - master_df['home_elo'] - HOME_ADVANTAGE) / 400))\n",
    "\n",
    "# Strength-adjusted features\n",
    "master_df['home_elo_advantage'] = master_df['home_elo'] / master_df['away_elo']\n",
    "master_df['combined_elo'] = master_df['home_elo'] + master_df['away_elo']\n",
    "\n",
    "# Recent performance features\n",
    "master_df['home_elo_trend'] = master_df['home_elo_momentum'] / master_df['home_elo']\n",
    "master_df['away_elo_trend'] = master_df['away_elo_momentum'] / master_df['away_elo']"
   ]
  },
  {
   "cell_type": "code",
   "execution_count": null,
   "id": "1bcfc86f",
   "metadata": {},
   "outputs": [],
   "source": [
    "print(\"Top 5 teams by Elo:\")\n",
    "top_teams = sorted(elo_ratings.items(), key=lambda x: x[1], reverse=True)[:5]\n",
    "for team, elo in top_teams:\n",
    "    print(f\"{team}: {elo:.0f}\")"
   ]
  },
  {
   "cell_type": "markdown",
   "id": "d786e62b",
   "metadata": {},
   "source": [
    "Here we can see the top 5 teams based on the elo system"
   ]
  },
  {
   "cell_type": "code",
   "execution_count": null,
   "id": "c14cbfcc",
   "metadata": {},
   "outputs": [],
   "source": [
    "if 'home_win' in master_df.columns:\n",
    "    from sklearn.metrics import roc_auc_score\n",
    "    auc = roc_auc_score(master_df['home_win'], master_df['elo_win_prob'])\n",
    "    print(f\"Elo prediction AUC: {auc:.3f}\")"
   ]
  },
  {
   "cell_type": "markdown",
   "id": "cc017e45",
   "metadata": {},
   "source": [
    "We can see it has prediction score of 70.9%"
   ]
  },
  {
   "cell_type": "code",
   "execution_count": null,
   "id": "727a197b",
   "metadata": {},
   "outputs": [],
   "source": [
    "master_df.to_csv(\"master_df_final.csv\", index=False)"
   ]
  },
  {
   "cell_type": "code",
   "execution_count": null,
   "id": "93409e59",
   "metadata": {},
   "outputs": [],
   "source": [
    "ID_TEAM_MAP = {v: k for k, v in mapping_dict.items()}"
   ]
  },
  {
   "cell_type": "code",
   "execution_count": null,
   "id": "f7e5517b",
   "metadata": {},
   "outputs": [],
   "source": [
    "features_to_drop = [\n",
    "    'Score', 'home_win', 'goal_diff', 'xG', 'xG.1',\n",
    "    'Home', 'Away', 'Venue', 'Referee',\n",
    "    'Wk', 'Day', 'Time', 'Attendance',\n",
    "    'Date', 'home_id', 'away_id', 'season'\n",
    "]"
   ]
  },
  {
   "cell_type": "code",
   "execution_count": null,
   "id": "6f02136e",
   "metadata": {},
   "outputs": [],
   "source": [
    "sns.pairplot(master_df, hue='home_win', vars=X.columns)"
   ]
  },
  {
   "cell_type": "code",
   "execution_count": null,
   "id": "5a5f7d68",
   "metadata": {},
   "outputs": [],
   "source": [
    "X = master_df.drop(columns=features_to_drop, errors='ignore')\n",
    "y = master_df['home_win']"
   ]
  },
  {
   "cell_type": "code",
   "execution_count": null,
   "id": "1f9f249d",
   "metadata": {},
   "outputs": [],
   "source": [
    "from sklearn.model_selection import train_test_split"
   ]
  },
  {
   "cell_type": "code",
   "execution_count": null,
   "id": "fb4b9136",
   "metadata": {},
   "outputs": [],
   "source": [
    "X_train, X_test, y_train, y_test = train_test_split(X, y, test_size=0.3, random_state=101)"
   ]
  },
  {
   "cell_type": "code",
   "execution_count": null,
   "id": "3f7e1aa8",
   "metadata": {},
   "outputs": [],
   "source": [
    "from sklearn.ensemble import RandomForestClassifier"
   ]
  },
  {
   "cell_type": "code",
   "execution_count": null,
   "id": "e5845917",
   "metadata": {},
   "outputs": [],
   "source": [
    "from sklearn.model_selection import GridSearchCV"
   ]
  },
  {
   "cell_type": "code",
   "execution_count": null,
   "id": "adf21e0d",
   "metadata": {},
   "outputs": [],
   "source": [
    "rfc = RandomForestClassifier()"
   ]
  },
  {
   "cell_type": "code",
   "execution_count": null,
   "id": "8efb3a24",
   "metadata": {},
   "outputs": [],
   "source": [
    "from sklearn.model_selection import StratifiedKFold\n",
    "from sklearn.metrics import accuracy_score, roc_auc_score, classification_report, confusion_matrix"
   ]
  },
  {
   "cell_type": "code",
   "execution_count": null,
   "id": "32a0527e",
   "metadata": {},
   "outputs": [],
   "source": [
    "param_grid = {\n",
    "    'n_estimators': [10, 20, 50, 75, 100, 300],\n",
    "    'max_depth': [None, 10, 20],\n",
    "    'min_samples_split': [2, 5, 10],\n",
    "    'min_samples_leaf': [1, 2, 4],\n",
    "    'max_features': ['sqrt', 'log2', 0.3],\n",
    "    'class_weight': [None, 'balanced']\n",
    "}"
   ]
  },
  {
   "cell_type": "code",
   "execution_count": null,
   "id": "b71e957e",
   "metadata": {},
   "outputs": [],
   "source": [
    "grid_cv = GridSearchCV(\n",
    "    estimator=rfc,\n",
    "    param_grid=param_grid,\n",
    "    scoring='roc_auc',\n",
    "    n_jobs=-1,\n",
    "    verbose=2,\n",
    "    refit=True\n",
    ")"
   ]
  },
  {
   "cell_type": "code",
   "execution_count": null,
   "id": "f582911b",
   "metadata": {},
   "outputs": [],
   "source": [
    "grid_cv.fit(X_train, y_train)"
   ]
  },
  {
   "cell_type": "code",
   "execution_count": null,
   "id": "5a8eb0ad",
   "metadata": {},
   "outputs": [],
   "source": [
    "best_rfc = grid_cv.best_estimator_\n",
    "print(\"Best params:\", grid_cv.best_params_)"
   ]
  },
  {
   "cell_type": "code",
   "execution_count": null,
   "id": "bdeb9710",
   "metadata": {},
   "outputs": [],
   "source": [
    "y_pred = best_rfc.predict(X_test)\n",
    "y_proba = best_rfc.predict_proba(X_test)[:, 1]"
   ]
  },
  {
   "cell_type": "code",
   "execution_count": null,
   "id": "29eb5239",
   "metadata": {},
   "outputs": [],
   "source": [
    "print(classification_report(y_test, y_pred))"
   ]
  },
  {
   "cell_type": "code",
   "execution_count": null,
   "id": "ff7d3a6b",
   "metadata": {},
   "outputs": [],
   "source": [
    "from sklearn.metrics import ConfusionMatrixDisplay"
   ]
  },
  {
   "cell_type": "code",
   "execution_count": null,
   "id": "2e9671ac",
   "metadata": {},
   "outputs": [],
   "source": [
    "cmd = ConfusionMatrixDisplay(confusion_matrix(y_test, y_pred), display_labels=best_rfc.classes_)"
   ]
  },
  {
   "cell_type": "code",
   "execution_count": null,
   "id": "d0844289",
   "metadata": {},
   "outputs": [],
   "source": [
    "cmd.plot()"
   ]
  },
  {
   "cell_type": "code",
   "execution_count": null,
   "id": "ce4316be",
   "metadata": {},
   "outputs": [],
   "source": [
    "print(\"Test ROC AUC:\", roc_auc_score(y_test, y_proba))"
   ]
  },
  {
   "cell_type": "code",
   "execution_count": null,
   "id": "655a31be",
   "metadata": {},
   "outputs": [],
   "source": [
    "from sklearn.metrics import roc_curve, auc\n",
    "\n",
    "fpr, tpr, _ = roc_curve(y_test, y_proba)\n",
    "roc_auc = auc(fpr, tpr)\n",
    "\n",
    "plt.figure(figsize=(8, 6))\n",
    "plt.plot(fpr, tpr, lw=2, label=f'ROC curve (AUC = {roc_auc:.3f})')\n",
    "plt.plot([0, 1], [0, 1], linestyle='--', color='gray', alpha=0.6, label='Chance')\n",
    "plt.xlabel('False Positive Rate')\n",
    "plt.ylabel('True Positive Rate')\n",
    "plt.title('ROC Curve - Home Win Prediction')\n",
    "plt.legend(loc='lower right')\n",
    "plt.grid(alpha=0.3)\n",
    "plt.tight_layout()\n",
    "plt.show()"
   ]
  },
  {
   "cell_type": "code",
   "execution_count": null,
   "id": "e1494e18",
   "metadata": {},
   "outputs": [],
   "source": [
    "feature_importance = pd.DataFrame({\n",
    "    'feature': X_train.columns,\n",
    "    'importance': best_rfc.feature_importances_\n",
    "}).sort_values('importance', ascending=False)\n",
    "\n",
    "plt.figure(figsize=(12, 8))\n",
    "sns.barplot(x='importance', y='feature', data=feature_importance.head(15))\n",
    "plt.title('Top 15 Feature Importances')\n",
    "plt.tight_layout()\n",
    "plt.show()\n",
    "\n",
    "print(\"Top 10 Most Important Features:\")\n",
    "print(feature_importance.head(10))"
   ]
  },
  {
   "cell_type": "markdown",
   "id": "64e29337",
   "metadata": {},
   "source": [
    "Now to create the API"
   ]
  },
  {
   "cell_type": "code",
   "execution_count": null,
   "id": "5a384b5a",
   "metadata": {},
   "outputs": [],
   "source": [
    "import joblib\n",
    "import json"
   ]
  },
  {
   "cell_type": "code",
   "execution_count": null,
   "id": "a5b1b03f",
   "metadata": {},
   "outputs": [],
   "source": [
    "joblib.dump(best_rfc, 'premier_league_predictor.pkl')"
   ]
  },
  {
   "cell_type": "code",
   "execution_count": null,
   "id": "1906465f",
   "metadata": {},
   "outputs": [],
   "source": [
    "joblib.dump(mapping_dict, 'team_mapping.pkl')"
   ]
  },
  {
   "cell_type": "code",
   "execution_count": null,
   "id": "18335081",
   "metadata": {},
   "outputs": [],
   "source": [
    "with open('feature_list.json', 'w') as f:\n",
    "    json.dump(list(X_train.columns), f)"
   ]
  },
  {
   "cell_type": "code",
   "execution_count": null,
   "id": "b01fca1d",
   "metadata": {},
   "outputs": [],
   "source": [
    "def predict_match_production(home_team_data, away_team_data):\n",
    "    \"\"\"\n",
    "    Production prediction function\n",
    "    home_team_data: dict with feature values for home team\n",
    "    away_team_data: dict with feature values for away team\n",
    "    \"\"\"\n",
    "    model = joblib.load('premier_league_predictor.pkl')\n",
    "    feature_list = json.load(open('feature_list.json'))\n",
    "    \n",
    "    features = {}\n",
    "    for feature in feature_list:\n",
    "        if feature.startswith('home_'):\n",
    "            features[feature] = home_team_data[feature.replace('home_', '')]\n",
    "        elif feature.startswith('away_'):\n",
    "            features[feature] = away_team_data[feature.replace('away_', '')]\n",
    "        else:\n",
    "            features[feature] = (home_team_data.get(feature, 0) + away_team_data.get(feature, 0)) / 2\n",
    "\n",
    "    input_df = pd.DataFrame([features])[feature_list]\n",
    "    prediction = model.predict(input_df)[0]\n",
    "    probability = model.predict_proba(input_df)[0]\n",
    "    \n",
    "    return {\n",
    "        'prediction': 'Home Win' if prediction == 1 else 'Away Win/Draw',\n",
    "        'home_win_probability': float(probability[1]),\n",
    "        'confidence': float(max(probability))\n",
    "    }"
   ]
  }
 ],
 "metadata": {
  "kernelspec": {
   "display_name": "base",
   "language": "python",
   "name": "python3"
  },
  "language_info": {
   "codemirror_mode": {
    "name": "ipython",
    "version": 3
   },
   "file_extension": ".py",
   "mimetype": "text/x-python",
   "name": "python",
   "nbconvert_exporter": "python",
   "pygments_lexer": "ipython3",
   "version": "3.12.3"
  }
 },
 "nbformat": 4,
 "nbformat_minor": 5
}
