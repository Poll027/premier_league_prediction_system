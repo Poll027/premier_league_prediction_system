{
 "cells": [
  {
   "cell_type": "code",
   "execution_count": 1,
   "id": "e45cb69e",
   "metadata": {},
   "outputs": [],
   "source": [
    "import pandas as pd\n",
    "import numpy as np"
   ]
  },
  {
   "cell_type": "code",
   "execution_count": 2,
   "id": "d4c79351",
   "metadata": {},
   "outputs": [],
   "source": [
    "history_df = pd.read_csv(\"C:\\\\Users\\\\Folajuwon\\\\Desktop\\\\coding stuff\\\\Projects\\\\PL predictor\\\\premier-league.csv\")"
   ]
  },
  {
   "cell_type": "code",
   "execution_count": 3,
   "id": "54456e8c",
   "metadata": {},
   "outputs": [
    {
     "name": "stdout",
     "output_type": "stream",
     "text": [
      "{'encoding': 'Windows-1252', 'confidence': 0.7274135312974523, 'language': ''}\n"
     ]
    }
   ],
   "source": [
    "import chardet\n",
    "\n",
    "with open(\"C:\\\\Users\\\\Folajuwon\\\\Desktop\\\\coding stuff\\\\Projects\\\\PL predictor\\\\formated_transfer_data.csv\", \"rb\") as f:\n",
    "    result = chardet.detect(f.read(10000))\n",
    "print(result)"
   ]
  },
  {
   "cell_type": "code",
   "execution_count": 4,
   "id": "4c8fb9c0",
   "metadata": {},
   "outputs": [],
   "source": [
    "df_2025 = pd.read_csv(\"C:\\\\Users\\\\Folajuwon\\\\Desktop\\\\coding stuff\\\\Projects\\\\PL predictor\\\\formated_transfer_data.csv\", encoding=result['encoding'])"
   ]
  },
  {
   "cell_type": "code",
   "execution_count": 6,
   "id": "2751660b",
   "metadata": {},
   "outputs": [
    {
     "data": {
      "text/html": [
       "<div>\n",
       "<style scoped>\n",
       "    .dataframe tbody tr th:only-of-type {\n",
       "        vertical-align: middle;\n",
       "    }\n",
       "\n",
       "    .dataframe tbody tr th {\n",
       "        vertical-align: top;\n",
       "    }\n",
       "\n",
       "    .dataframe thead th {\n",
       "        text-align: right;\n",
       "    }\n",
       "</style>\n",
       "<table border=\"1\" class=\"dataframe\">\n",
       "  <thead>\n",
       "    <tr style=\"text-align: right;\">\n",
       "      <th></th>\n",
       "      <th>club_name</th>\n",
       "      <th>player_name</th>\n",
       "      <th>age</th>\n",
       "      <th>position</th>\n",
       "      <th>club_involved_name</th>\n",
       "      <th>fee</th>\n",
       "      <th>transfer_movement</th>\n",
       "      <th>transfer_period</th>\n",
       "      <th>fee_cleaned</th>\n",
       "      <th>league_name</th>\n",
       "      <th>year</th>\n",
       "      <th>season</th>\n",
       "    </tr>\n",
       "  </thead>\n",
       "  <tbody>\n",
       "    <tr>\n",
       "      <th>0</th>\n",
       "      <td>Middlesbrough FC</td>\n",
       "      <td>Tommy Wright</td>\n",
       "      <td>26.0</td>\n",
       "      <td>Left Winger</td>\n",
       "      <td>Leicester</td>\n",
       "      <td>€910Th.</td>\n",
       "      <td>in</td>\n",
       "      <td>Summer</td>\n",
       "      <td>0.91</td>\n",
       "      <td>Premier League</td>\n",
       "      <td>1992</td>\n",
       "      <td>1992/1993</td>\n",
       "    </tr>\n",
       "    <tr>\n",
       "      <th>1</th>\n",
       "      <td>Middlesbrough FC</td>\n",
       "      <td>Jonathan Gittens</td>\n",
       "      <td>28.0</td>\n",
       "      <td>defence</td>\n",
       "      <td>Southampton</td>\n",
       "      <td>€250Th.</td>\n",
       "      <td>in</td>\n",
       "      <td>Summer</td>\n",
       "      <td>0.25</td>\n",
       "      <td>Premier League</td>\n",
       "      <td>1992</td>\n",
       "      <td>1992/1993</td>\n",
       "    </tr>\n",
       "    <tr>\n",
       "      <th>2</th>\n",
       "      <td>Middlesbrough FC</td>\n",
       "      <td>Chris Morris</td>\n",
       "      <td>28.0</td>\n",
       "      <td>Right-Back</td>\n",
       "      <td>Celtic</td>\n",
       "      <td>?</td>\n",
       "      <td>in</td>\n",
       "      <td>Summer</td>\n",
       "      <td>NaN</td>\n",
       "      <td>Premier League</td>\n",
       "      <td>1992</td>\n",
       "      <td>1992/1993</td>\n",
       "    </tr>\n",
       "    <tr>\n",
       "      <th>3</th>\n",
       "      <td>Middlesbrough FC</td>\n",
       "      <td>Ben Roberts</td>\n",
       "      <td>17.0</td>\n",
       "      <td>Goalkeeper</td>\n",
       "      <td>Boro U18</td>\n",
       "      <td>-</td>\n",
       "      <td>in</td>\n",
       "      <td>Summer</td>\n",
       "      <td>NaN</td>\n",
       "      <td>Premier League</td>\n",
       "      <td>1992</td>\n",
       "      <td>1992/1993</td>\n",
       "    </tr>\n",
       "    <tr>\n",
       "      <th>4</th>\n",
       "      <td>Middlesbrough FC</td>\n",
       "      <td>Andy Todd</td>\n",
       "      <td>17.0</td>\n",
       "      <td>Centre-Back</td>\n",
       "      <td>Boro U18</td>\n",
       "      <td>-</td>\n",
       "      <td>in</td>\n",
       "      <td>Summer</td>\n",
       "      <td>NaN</td>\n",
       "      <td>Premier League</td>\n",
       "      <td>1992</td>\n",
       "      <td>1992/1993</td>\n",
       "    </tr>\n",
       "  </tbody>\n",
       "</table>\n",
       "</div>"
      ],
      "text/plain": [
       "          club_name       player_name   age     position club_involved_name  \\\n",
       "0  Middlesbrough FC      Tommy Wright  26.0  Left Winger          Leicester   \n",
       "1  Middlesbrough FC  Jonathan Gittens  28.0      defence        Southampton   \n",
       "2  Middlesbrough FC      Chris Morris  28.0   Right-Back             Celtic   \n",
       "3  Middlesbrough FC       Ben Roberts  17.0   Goalkeeper           Boro U18   \n",
       "4  Middlesbrough FC         Andy Todd  17.0  Centre-Back           Boro U18   \n",
       "\n",
       "       fee transfer_movement transfer_period  fee_cleaned     league_name  \\\n",
       "0  €910Th.                in          Summer         0.91  Premier League   \n",
       "1  €250Th.                in          Summer         0.25  Premier League   \n",
       "2        ?                in          Summer          NaN  Premier League   \n",
       "3        -                in          Summer          NaN  Premier League   \n",
       "4        -                in          Summer          NaN  Premier League   \n",
       "\n",
       "   year     season  \n",
       "0  1992  1992/1993  \n",
       "1  1992  1992/1993  \n",
       "2  1992  1992/1993  \n",
       "3  1992  1992/1993  \n",
       "4  1992  1992/1993  "
      ]
     },
     "execution_count": 6,
     "metadata": {},
     "output_type": "execute_result"
    }
   ],
   "source": [
    "history_df.head()"
   ]
  },
  {
   "cell_type": "code",
   "execution_count": 7,
   "id": "ccf1a7ff",
   "metadata": {},
   "outputs": [],
   "source": [
    "history_df[\"fee_cleaned\"] = pd.to_numeric(history_df[\"fee_cleaned\"])"
   ]
  },
  {
   "cell_type": "code",
   "execution_count": 8,
   "id": "cc27f348",
   "metadata": {},
   "outputs": [
    {
     "name": "stderr",
     "output_type": "stream",
     "text": [
      "C:\\Users\\Folajuwon\\AppData\\Local\\Temp\\ipykernel_34764\\3280675013.py:1: DeprecationWarning: DataFrameGroupBy.apply operated on the grouping columns. This behavior is deprecated, and in a future version of pandas the grouping columns will be excluded from the operation. Either pass `include_groups=False` to exclude the groupings or explicitly select the grouping columns after groupby to silence this warning.\n",
      "  players_in = history_df.groupby(['club_name', 'season']).apply(\n",
      "C:\\Users\\Folajuwon\\AppData\\Local\\Temp\\ipykernel_34764\\3280675013.py:5: DeprecationWarning: DataFrameGroupBy.apply operated on the grouping columns. This behavior is deprecated, and in a future version of pandas the grouping columns will be excluded from the operation. Either pass `include_groups=False` to exclude the groupings or explicitly select the grouping columns after groupby to silence this warning.\n",
      "  players_out = history_df.groupby(['club_name', 'season']).apply(\n"
     ]
    }
   ],
   "source": [
    "players_in = history_df.groupby(['club_name', 'season']).apply(\n",
    "    lambda x: (x['transfer_movement'].str.lower() == 'in').sum()\n",
    ").reset_index(name='players_in')\n",
    "\n",
    "players_out = history_df.groupby(['club_name', 'season']).apply(\n",
    "    lambda x: (x['transfer_movement'].str.lower() == 'out').sum()\n",
    ").reset_index(name='players_out')"
   ]
  },
  {
   "cell_type": "code",
   "execution_count": 9,
   "id": "e7a30038",
   "metadata": {},
   "outputs": [
    {
     "name": "stderr",
     "output_type": "stream",
     "text": [
      "C:\\Users\\Folajuwon\\AppData\\Local\\Temp\\ipykernel_34764\\555280984.py:1: DeprecationWarning: DataFrameGroupBy.apply operated on the grouping columns. This behavior is deprecated, and in a future version of pandas the grouping columns will be excluded from the operation. Either pass `include_groups=False` to exclude the groupings or explicitly select the grouping columns after groupby to silence this warning.\n",
      "  total_spent = history_df.groupby(['club_name', 'season']).apply(\n"
     ]
    }
   ],
   "source": [
    "total_spent = history_df.groupby(['club_name', 'season']).apply(\n",
    "    lambda x: x.loc[x['transfer_movement'].str.lower() == 'in', 'fee_cleaned'].sum(min_count=1)\n",
    ").reset_index(name='total_spent')"
   ]
  },
  {
   "cell_type": "code",
   "execution_count": 10,
   "id": "83fd92d6",
   "metadata": {},
   "outputs": [
    {
     "name": "stderr",
     "output_type": "stream",
     "text": [
      "C:\\Users\\Folajuwon\\AppData\\Local\\Temp\\ipykernel_34764\\1496387475.py:1: DeprecationWarning: DataFrameGroupBy.apply operated on the grouping columns. This behavior is deprecated, and in a future version of pandas the grouping columns will be excluded from the operation. Either pass `include_groups=False` to exclude the groupings or explicitly select the grouping columns after groupby to silence this warning.\n",
      "  total_income = history_df.groupby(['club_name', 'season']).apply(\n"
     ]
    }
   ],
   "source": [
    "total_income = history_df.groupby(['club_name', 'season']).apply(\n",
    "    lambda x: x.loc[x['transfer_movement'].str.lower() == 'out', 'fee_cleaned'].sum(min_count=1)\n",
    ").reset_index(name='total_income')"
   ]
  },
  {
   "cell_type": "code",
   "execution_count": 11,
   "id": "4deef226",
   "metadata": {},
   "outputs": [
    {
     "name": "stderr",
     "output_type": "stream",
     "text": [
      "C:\\Users\\Folajuwon\\AppData\\Local\\Temp\\ipykernel_34764\\458961927.py:1: DeprecationWarning: DataFrameGroupBy.apply operated on the grouping columns. This behavior is deprecated, and in a future version of pandas the grouping columns will be excluded from the operation. Either pass `include_groups=False` to exclude the groupings or explicitly select the grouping columns after groupby to silence this warning.\n",
      "  net_spend = history_df.groupby(['club_name', 'season']).apply(\n"
     ]
    }
   ],
   "source": [
    "net_spend = history_df.groupby(['club_name', 'season']).apply(\n",
    "    lambda x: x.loc[x['transfer_movement'].str.lower() == 'in', 'fee_cleaned'].sum(min_count=1)\n",
    "             - x.loc[x['transfer_movement'].str.lower() == 'out', 'fee_cleaned'].sum(min_count=1)\n",
    ").reset_index(name='net_spend')"
   ]
  },
  {
   "cell_type": "code",
   "execution_count": 12,
   "id": "e5688620",
   "metadata": {},
   "outputs": [
    {
     "name": "stderr",
     "output_type": "stream",
     "text": [
      "C:\\Users\\Folajuwon\\AppData\\Local\\Temp\\ipykernel_34764\\2363495729.py:1: DeprecationWarning: DataFrameGroupBy.apply operated on the grouping columns. This behavior is deprecated, and in a future version of pandas the grouping columns will be excluded from the operation. Either pass `include_groups=False` to exclude the groupings or explicitly select the grouping columns after groupby to silence this warning.\n",
      "  avg_age_in = history_df.groupby(['club_name', 'season']).apply(\n"
     ]
    }
   ],
   "source": [
    "avg_age_in = history_df.groupby(['club_name', 'season']).apply(\n",
    "    lambda x: x.loc[x['transfer_movement'].str.lower() == 'in', 'age'].mean()\n",
    ").reset_index(name='avg_age_in')"
   ]
  },
  {
   "cell_type": "code",
   "execution_count": 13,
   "id": "9cc3abaf",
   "metadata": {},
   "outputs": [
    {
     "name": "stderr",
     "output_type": "stream",
     "text": [
      "C:\\Users\\Folajuwon\\AppData\\Local\\Temp\\ipykernel_34764\\1420527778.py:1: DeprecationWarning: DataFrameGroupBy.apply operated on the grouping columns. This behavior is deprecated, and in a future version of pandas the grouping columns will be excluded from the operation. Either pass `include_groups=False` to exclude the groupings or explicitly select the grouping columns after groupby to silence this warning.\n",
      "  avg_age_out = history_df.groupby(['club_name', 'season']).apply(\n"
     ]
    }
   ],
   "source": [
    "avg_age_out = history_df.groupby(['club_name', 'season']).apply(\n",
    "    lambda x: x.loc[x['transfer_movement'].str.lower() == 'out', 'age'].mean()\n",
    ").reset_index(name='avg_age_out')"
   ]
  },
  {
   "cell_type": "code",
   "execution_count": 14,
   "id": "93496cc6",
   "metadata": {},
   "outputs": [
    {
     "name": "stderr",
     "output_type": "stream",
     "text": [
      "C:\\Users\\Folajuwon\\AppData\\Local\\Temp\\ipykernel_34764\\2981851752.py:1: DeprecationWarning: DataFrameGroupBy.apply operated on the grouping columns. This behavior is deprecated, and in a future version of pandas the grouping columns will be excluded from the operation. Either pass `include_groups=False` to exclude the groupings or explicitly select the grouping columns after groupby to silence this warning.\n",
      "  loan_in = history_df.groupby(['club_name', 'season']).apply(\n"
     ]
    }
   ],
   "source": [
    "loan_in = history_df.groupby(['club_name', 'season']).apply(\n",
    "    lambda x: x.loc[\n",
    "        (x['transfer_movement'].str.lower() == 'in') &\n",
    "        (x['fee'].str.contains('loan', case=False, na=False))\n",
    "    ].shape[0]\n",
    ").reset_index(name='loan_in')"
   ]
  },
  {
   "cell_type": "code",
   "execution_count": 15,
   "id": "7542b339",
   "metadata": {},
   "outputs": [
    {
     "name": "stderr",
     "output_type": "stream",
     "text": [
      "C:\\Users\\Folajuwon\\AppData\\Local\\Temp\\ipykernel_34764\\3194783367.py:1: DeprecationWarning: DataFrameGroupBy.apply operated on the grouping columns. This behavior is deprecated, and in a future version of pandas the grouping columns will be excluded from the operation. Either pass `include_groups=False` to exclude the groupings or explicitly select the grouping columns after groupby to silence this warning.\n",
      "  loan_out = history_df.groupby(['club_name', 'season']).apply(\n"
     ]
    }
   ],
   "source": [
    "loan_out = history_df.groupby(['club_name', 'season']).apply(\n",
    "    lambda x: x.loc[\n",
    "        (x['transfer_movement'].str.lower() == 'out') &\n",
    "        (x['fee'].str.contains('loan', case=False, na=False))\n",
    "    ].shape[0]\n",
    ").reset_index(name='loan_out')"
   ]
  },
  {
   "cell_type": "code",
   "execution_count": 16,
   "id": "d3de5a5f",
   "metadata": {},
   "outputs": [],
   "source": [
    "agg_df = players_in \\\n",
    "    .merge(players_out, on=['club_name', 'season']) \\\n",
    "    .merge(total_spent, on=['club_name', 'season']) \\\n",
    "    .merge(total_income, on=['club_name', 'season']) \\\n",
    "    .merge(net_spend, on=['club_name', 'season']) \\\n",
    "    .merge(avg_age_in, on=['club_name', 'season']) \\\n",
    "    .merge(avg_age_out, on=['club_name', 'season']) \\\n",
    "    .merge(loan_in, on=['club_name', 'season']) \\\n",
    "    .merge(loan_out, on=['club_name', 'season'])\n",
    "\n",
    "# Optional: Fill NaNs for numeric columns\n",
    "agg_df[['total_spent', 'total_income', 'net_spend',\n",
    "        'players_in', 'players_out', 'loan_in', 'loan_out']] = \\\n",
    "    agg_df[['total_spent', 'total_income', 'net_spend',\n",
    "            'players_in', 'players_out', 'loan_in', 'loan_out']].fillna(0)"
   ]
  },
  {
   "cell_type": "code",
   "execution_count": 17,
   "id": "2ade3533",
   "metadata": {},
   "outputs": [],
   "source": [
    "history_df = agg_df"
   ]
  },
  {
   "cell_type": "code",
   "execution_count": 18,
   "id": "14a01399",
   "metadata": {},
   "outputs": [
    {
     "data": {
      "text/html": [
       "<div>\n",
       "<style scoped>\n",
       "    .dataframe tbody tr th:only-of-type {\n",
       "        vertical-align: middle;\n",
       "    }\n",
       "\n",
       "    .dataframe tbody tr th {\n",
       "        vertical-align: top;\n",
       "    }\n",
       "\n",
       "    .dataframe thead th {\n",
       "        text-align: right;\n",
       "    }\n",
       "</style>\n",
       "<table border=\"1\" class=\"dataframe\">\n",
       "  <thead>\n",
       "    <tr style=\"text-align: right;\">\n",
       "      <th></th>\n",
       "      <th>club_name</th>\n",
       "      <th>season</th>\n",
       "      <th>players_in</th>\n",
       "      <th>players_out</th>\n",
       "      <th>total_spent</th>\n",
       "      <th>total_income</th>\n",
       "      <th>net_spend</th>\n",
       "      <th>avg_age_in</th>\n",
       "      <th>avg_age_out</th>\n",
       "      <th>loan_in</th>\n",
       "      <th>loan_out</th>\n",
       "    </tr>\n",
       "  </thead>\n",
       "  <tbody>\n",
       "    <tr>\n",
       "      <th>0</th>\n",
       "      <td>AFC Bournemouth</td>\n",
       "      <td>2015/2016</td>\n",
       "      <td>36</td>\n",
       "      <td>33</td>\n",
       "      <td>55.11</td>\n",
       "      <td>0.650</td>\n",
       "      <td>54.460</td>\n",
       "      <td>23.916667</td>\n",
       "      <td>24.757576</td>\n",
       "      <td>22</td>\n",
       "      <td>21</td>\n",
       "    </tr>\n",
       "    <tr>\n",
       "      <th>1</th>\n",
       "      <td>AFC Bournemouth</td>\n",
       "      <td>2016/2017</td>\n",
       "      <td>20</td>\n",
       "      <td>29</td>\n",
       "      <td>40.69</td>\n",
       "      <td>23.690</td>\n",
       "      <td>17.000</td>\n",
       "      <td>22.550000</td>\n",
       "      <td>24.724138</td>\n",
       "      <td>13</td>\n",
       "      <td>15</td>\n",
       "    </tr>\n",
       "    <tr>\n",
       "      <th>2</th>\n",
       "      <td>AFC Bournemouth</td>\n",
       "      <td>2017/2018</td>\n",
       "      <td>15</td>\n",
       "      <td>14</td>\n",
       "      <td>34.30</td>\n",
       "      <td>0.000</td>\n",
       "      <td>34.300</td>\n",
       "      <td>25.466667</td>\n",
       "      <td>25.071429</td>\n",
       "      <td>10</td>\n",
       "      <td>11</td>\n",
       "    </tr>\n",
       "    <tr>\n",
       "      <th>3</th>\n",
       "      <td>AFC Bournemouth</td>\n",
       "      <td>2018/2019</td>\n",
       "      <td>14</td>\n",
       "      <td>16</td>\n",
       "      <td>89.10</td>\n",
       "      <td>20.200</td>\n",
       "      <td>68.900</td>\n",
       "      <td>24.571429</td>\n",
       "      <td>27.000000</td>\n",
       "      <td>9</td>\n",
       "      <td>9</td>\n",
       "    </tr>\n",
       "    <tr>\n",
       "      <th>4</th>\n",
       "      <td>AFC Bournemouth</td>\n",
       "      <td>2019/2020</td>\n",
       "      <td>13</td>\n",
       "      <td>13</td>\n",
       "      <td>54.91</td>\n",
       "      <td>34.625</td>\n",
       "      <td>20.285</td>\n",
       "      <td>23.846154</td>\n",
       "      <td>25.307692</td>\n",
       "      <td>7</td>\n",
       "      <td>8</td>\n",
       "    </tr>\n",
       "  </tbody>\n",
       "</table>\n",
       "</div>"
      ],
      "text/plain": [
       "         club_name     season  players_in  players_out  total_spent  \\\n",
       "0  AFC Bournemouth  2015/2016          36           33        55.11   \n",
       "1  AFC Bournemouth  2016/2017          20           29        40.69   \n",
       "2  AFC Bournemouth  2017/2018          15           14        34.30   \n",
       "3  AFC Bournemouth  2018/2019          14           16        89.10   \n",
       "4  AFC Bournemouth  2019/2020          13           13        54.91   \n",
       "\n",
       "   total_income  net_spend  avg_age_in  avg_age_out  loan_in  loan_out  \n",
       "0         0.650     54.460   23.916667    24.757576       22        21  \n",
       "1        23.690     17.000   22.550000    24.724138       13        15  \n",
       "2         0.000     34.300   25.466667    25.071429       10        11  \n",
       "3        20.200     68.900   24.571429    27.000000        9         9  \n",
       "4        34.625     20.285   23.846154    25.307692        7         8  "
      ]
     },
     "execution_count": 18,
     "metadata": {},
     "output_type": "execute_result"
    }
   ],
   "source": [
    "history_df.head()"
   ]
  },
  {
   "cell_type": "code",
   "execution_count": 22,
   "id": "c7f9cd92",
   "metadata": {},
   "outputs": [
    {
     "data": {
      "text/html": [
       "<div>\n",
       "<style scoped>\n",
       "    .dataframe tbody tr th:only-of-type {\n",
       "        vertical-align: middle;\n",
       "    }\n",
       "\n",
       "    .dataframe tbody tr th {\n",
       "        vertical-align: top;\n",
       "    }\n",
       "\n",
       "    .dataframe thead th {\n",
       "        text-align: right;\n",
       "    }\n",
       "</style>\n",
       "<table border=\"1\" class=\"dataframe\">\n",
       "  <thead>\n",
       "    <tr style=\"text-align: right;\">\n",
       "      <th></th>\n",
       "      <th>Unnamed: 0</th>\n",
       "      <th>Name</th>\n",
       "      <th>transfer_movement</th>\n",
       "      <th>club_name</th>\n",
       "      <th>age</th>\n",
       "      <th>Position</th>\n",
       "      <th>Market_Value</th>\n",
       "      <th>fee</th>\n",
       "    </tr>\n",
       "  </thead>\n",
       "  <tbody>\n",
       "    <tr>\n",
       "      <th>0</th>\n",
       "      <td>0</td>\n",
       "      <td>Martín Zubimendi</td>\n",
       "      <td>1.0</td>\n",
       "      <td>Arsenal FC</td>\n",
       "      <td>26.0</td>\n",
       "      <td>Defensive Midfield</td>\n",
       "      <td>€ 60,000,000</td>\n",
       "      <td>€ 70,000,000</td>\n",
       "    </tr>\n",
       "    <tr>\n",
       "      <th>1</th>\n",
       "      <td>1</td>\n",
       "      <td>Viktor Gyökeres</td>\n",
       "      <td>1.0</td>\n",
       "      <td>Arsenal FC</td>\n",
       "      <td>27.0</td>\n",
       "      <td>Centre-Forward</td>\n",
       "      <td>€ 75,000,000</td>\n",
       "      <td>€ 65,800,000</td>\n",
       "    </tr>\n",
       "    <tr>\n",
       "      <th>2</th>\n",
       "      <td>2</td>\n",
       "      <td>Noni Madueke</td>\n",
       "      <td>1.0</td>\n",
       "      <td>Arsenal FC</td>\n",
       "      <td>23.0</td>\n",
       "      <td>Right Winger</td>\n",
       "      <td>€ 40,000,000</td>\n",
       "      <td>€ 56,000,000</td>\n",
       "    </tr>\n",
       "    <tr>\n",
       "      <th>3</th>\n",
       "      <td>3</td>\n",
       "      <td>Cristhian Mosquera</td>\n",
       "      <td>1.0</td>\n",
       "      <td>Arsenal FC</td>\n",
       "      <td>21.0</td>\n",
       "      <td>Centre-Back</td>\n",
       "      <td>€ 30,000,000</td>\n",
       "      <td>€ 15,000,000</td>\n",
       "    </tr>\n",
       "    <tr>\n",
       "      <th>4</th>\n",
       "      <td>4</td>\n",
       "      <td>Christian Nørgaard</td>\n",
       "      <td>1.0</td>\n",
       "      <td>Arsenal FC</td>\n",
       "      <td>31.0</td>\n",
       "      <td>Defensive Midfield</td>\n",
       "      <td>€ 11,000,000</td>\n",
       "      <td>€ 11,600,000</td>\n",
       "    </tr>\n",
       "  </tbody>\n",
       "</table>\n",
       "</div>"
      ],
      "text/plain": [
       "   Unnamed: 0                Name  transfer_movement   club_name   age  \\\n",
       "0           0    Martín Zubimendi                1.0  Arsenal FC  26.0   \n",
       "1           1     Viktor Gyökeres                1.0  Arsenal FC  27.0   \n",
       "2           2        Noni Madueke                1.0  Arsenal FC  23.0   \n",
       "3           3  Cristhian Mosquera                1.0  Arsenal FC  21.0   \n",
       "4           4  Christian Nørgaard                1.0  Arsenal FC  31.0   \n",
       "\n",
       "             Position  Market_Value           fee  \n",
       "0  Defensive Midfield  € 60,000,000  € 70,000,000  \n",
       "1      Centre-Forward  € 75,000,000  € 65,800,000  \n",
       "2        Right Winger  € 40,000,000  € 56,000,000  \n",
       "3         Centre-Back  € 30,000,000  € 15,000,000  \n",
       "4  Defensive Midfield  € 11,000,000  € 11,600,000  "
      ]
     },
     "execution_count": 22,
     "metadata": {},
     "output_type": "execute_result"
    }
   ],
   "source": [
    "df_2025.head()"
   ]
  },
  {
   "cell_type": "code",
   "execution_count": 21,
   "id": "7fbe7b46",
   "metadata": {},
   "outputs": [],
   "source": [
    "df_2025 = df_2025.rename(columns={\n",
    "    \"Club\": \"club_name\",\n",
    "    \"Age\": \"age\",\n",
    "    \"Fee\": \"fee\",\n",
    "    \"Joined_or_stayed\": \"transfer_movement\"\n",
    "})"
   ]
  },
  {
   "cell_type": "code",
   "execution_count": 23,
   "id": "e01f988a",
   "metadata": {},
   "outputs": [],
   "source": [
    "def clean_fee(value):\n",
    "    if isinstance(value, str):\n",
    "        value = value.replace(\"€\", \"\").replace(\",\", \"\").strip()\n",
    "        if \"Th\" in value:  # thousands\n",
    "            return float(value.replace(\"Th\", \"\")) / 1000\n",
    "        elif \"m\" in value.lower():  # millions with 'm' notation\n",
    "            return float(value.lower().replace(\"m\", \"\"))\n",
    "        else:  # already in millions (like 70,000,000)\n",
    "            return float(value) / 1_000_000\n",
    "    return None\n",
    "\n",
    "df_2025[\"fee_cleaned\"] = df_2025[\"fee\"].apply(clean_fee)\n"
   ]
  },
  {
   "cell_type": "code",
   "execution_count": 24,
   "id": "ebff0bd1",
   "metadata": {},
   "outputs": [],
   "source": [
    "df_2025[\"transfer_movement\"] = df_2025[\"transfer_movement\"].map({1.0: \"in\", 0.0: \"out\"})"
   ]
  },
  {
   "cell_type": "code",
   "execution_count": 25,
   "id": "6fe03c51",
   "metadata": {},
   "outputs": [],
   "source": [
    "df_2025[\"season\"] = \"2025/2026\""
   ]
  },
  {
   "cell_type": "code",
   "execution_count": 26,
   "id": "d886272c",
   "metadata": {},
   "outputs": [],
   "source": [
    "df_2025 = df_2025.groupby([\"club_name\", \"season\"]).agg(\n",
    "    players_in=(\"transfer_movement\", lambda x: (x == \"in\").sum()),\n",
    "    players_out=(\"transfer_movement\", lambda x: (x == \"out\").sum()),\n",
    "    total_spent=(\"fee_cleaned\", lambda x: x[df_2025.loc[x.index, \"transfer_movement\"] == \"in\"].sum()),\n",
    "    total_income=(\"fee_cleaned\", lambda x: x[df_2025.loc[x.index, \"transfer_movement\"] == \"out\"].sum()),\n",
    "    avg_age_in=(\"age\", lambda x: x[df_2025.loc[x.index, \"transfer_movement\"] == \"in\"].mean()),\n",
    "    avg_age_out=(\"age\", lambda x: x[df_2025.loc[x.index, \"transfer_movement\"] == \"out\"].mean())\n",
    ").reset_index()\n",
    "\n",
    "# Net spend\n",
    "df_2025[\"net_spend\"] = df_2025[\"total_spent\"] - df_2025[\"total_income\"]\n",
    "\n",
    "# Loan columns (not in your 2025 data, so set to 0)\n",
    "df_2025[\"loan_in\"] = 0\n",
    "df_2025[\"loan_out\"] = 0"
   ]
  },
  {
   "cell_type": "code",
   "execution_count": 27,
   "id": "22039d37",
   "metadata": {},
   "outputs": [],
   "source": [
    "final_df = pd.concat([history_df, df_2025], ignore_index=True)"
   ]
  },
  {
   "cell_type": "code",
   "execution_count": 29,
   "id": "004ad450",
   "metadata": {},
   "outputs": [],
   "source": [
    "final_df.to_csv(\"C:\\\\Users\\\\Folajuwon\\\\Desktop\\\\coding stuff\\\\Projects\\\\PL predictor\\\\final_transfers.csv\", index=False)"
   ]
  }
 ],
 "metadata": {
  "kernelspec": {
   "display_name": "base",
   "language": "python",
   "name": "python3"
  },
  "language_info": {
   "codemirror_mode": {
    "name": "ipython",
    "version": 3
   },
   "file_extension": ".py",
   "mimetype": "text/x-python",
   "name": "python",
   "nbconvert_exporter": "python",
   "pygments_lexer": "ipython3",
   "version": "3.12.7"
  }
 },
 "nbformat": 4,
 "nbformat_minor": 5
}
